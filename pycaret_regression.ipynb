{
 "cells": [
  {
   "cell_type": "markdown",
   "id": "c291919e",
   "metadata": {},
   "source": [
    "## Regression AutoML demo with PyCaret"
   ]
  },
  {
   "cell_type": "code",
   "execution_count": null,
   "id": "99ac05f7",
   "metadata": {},
   "outputs": [],
   "source": [
    "conda install -p C:/Users/sudha/miniconda3/envs/pycaretenv ipykernel --update-deps --force-reinstall"
   ]
  },
  {
   "cell_type": "code",
   "execution_count": null,
   "id": "4bff109f",
   "metadata": {},
   "outputs": [],
   "source": [
    "print(\"hello world\")"
   ]
  },
  {
   "cell_type": "markdown",
   "id": "dcddaa1d-c9b6-4a01-8660-efd86924f364",
   "metadata": {},
   "source": [
    "### 1. Import libraries"
   ]
  },
  {
   "cell_type": "code",
   "execution_count": null,
   "id": "49439eb5",
   "metadata": {},
   "outputs": [],
   "source": [
    "import numpy as np\n",
    "import pandas as pd\n",
    "\n",
    "import matplotlib.pyplot as plt\n",
    "import matplotlib as mpl\n",
    "from mpl_toolkits.mplot3d import Axes3D\n",
    "import seaborn as sns\n",
    "\n",
    "# if VS Code Pylance is marking this as unresolved import with syntax highlighting\n",
    "# but the code works nonetheless, then it is because the runtime kerncel/env from conda is correct\n",
    "# but VSCode PyLance is using a different python interpreter, possibly from a different conda environment\n",
    "# To fix this, go to view -> Command Pallette -> Python Interpreter. \n",
    "# Change the python interpreter corresponding to this env   \n",
    "from pycaret.datasets import get_data\n",
    "from pycaret.regression import *\n",
    "\n",
    "mpl.rcParams['figure.dpi'] = 300"
   ]
  },
  {
   "cell_type": "markdown",
   "id": "b42eea85",
   "metadata": {},
   "source": [
    "### 2. Load dataset"
   ]
  },
  {
   "cell_type": "code",
   "execution_count": null,
   "id": "55916d63",
   "metadata": {},
   "outputs": [],
   "source": [
    "# This downloads the insurance.csv from the location\n",
    "# https://raw.githubusercontent.com/pycaret/pycaret/master/datasets/insurance.csv\n",
    "# df = get_data('insurance')\n",
    "\n",
    "# Some name servers of ISPs, cant resolve this correctly (e.g. Jio)\n",
    "# Hence the alternate way is to manually load the csv (provided locally in this project) "
   ]
  },
  {
   "cell_type": "code",
   "execution_count": null,
   "id": "96158415",
   "metadata": {},
   "outputs": [],
   "source": [
    "df = pd.read_csv(\"insurance.csv\")\n",
    "df.head()\n",
    "# df.tail()"
   ]
  },
  {
   "cell_type": "markdown",
   "id": "a6fdcd73",
   "metadata": {},
   "source": [
    "### 3. Mini EDA (Look for detailed EDA template later in the course)"
   ]
  },
  {
   "cell_type": "code",
   "execution_count": null,
   "id": "3c47077a",
   "metadata": {},
   "outputs": [],
   "source": [
    "df.info()"
   ]
  },
  {
   "cell_type": "markdown",
   "id": "c608c3a2",
   "metadata": {},
   "source": [
    "#### 3.1 Different Plots\n",
    "\n",
    "1. Certain plots can be done directly from Pandas\n",
    "2. General plots can be done from matplotlib\n",
    "3. Beautiful and powerful plots can be done with Seaborn\n",
    "4. Interactive plots can be done with Plotly (community edition is sufficient)\n",
    "5. 3D plots can be done with mpl_toolkits.mplot3d"
   ]
  },
  {
   "cell_type": "code",
   "execution_count": null,
   "id": "443e2938",
   "metadata": {},
   "outputs": [],
   "source": [
    "numeric = ['age', 'bmi', 'children', 'charges']\n",
    "\n",
    "# using hist() on pandas for freqency histogram plot of numeric variables.\n",
    "# x is the numeric field. y axis is count for that particular x \n",
    "df[numeric].hist(bins=20, figsize = (8,8))\n",
    "plt.show()"
   ]
  },
  {
   "cell_type": "markdown",
   "id": "973a0bd1",
   "metadata": {},
   "source": [
    "##### 3.1.1 Digression: demonstration of various constructs used in subsequent code"
   ]
  },
  {
   "cell_type": "code",
   "execution_count": null,
   "id": "91bb917f",
   "metadata": {},
   "outputs": [],
   "source": [
    "# Demonstrate usage of formatted string (f string) to print for debugging\n",
    "# https://note.nkmk.me/en/python-f-strings/\n",
    "name_str_var = \"John Smith\"\n",
    "age_int_var = 25\n",
    "height_float_var = 185.04567891 \n",
    "string_val = f\"Name = {name_str_var}, Age = {age_int_var}, Height = {height_float_var:.3f}\"\n",
    "print(string_val)"
   ]
  },
  {
   "cell_type": "code",
   "execution_count": null,
   "id": "c755fa40",
   "metadata": {},
   "outputs": [],
   "source": [
    "# Demonstrate usage of numpy array flatten\n",
    "array_2d = np.array([[1, 2],[3,4]])\n",
    "array_2d"
   ]
  },
  {
   "cell_type": "code",
   "execution_count": null,
   "id": "0ba1e4e6",
   "metadata": {},
   "outputs": [],
   "source": [
    "array_2d.flatten()"
   ]
  },
  {
   "cell_type": "code",
   "execution_count": null,
   "id": "6abc6f04",
   "metadata": {},
   "outputs": [],
   "source": [
    "# Demonstrate usage of value_counts() to generate a frequency table\n",
    "categorical = ['smoker', 'sex', 'region']\n",
    "col = categorical[0]\n",
    "freq_series = df[col].value_counts()\n",
    "\n",
    "# Use print with formatted string instead of old style concatenation \n",
    "print(f\"data type of freq_series={type(freq_series)}\")\n",
    "freq_series"
   ]
  },
  {
   "cell_type": "code",
   "execution_count": null,
   "id": "cabd8799",
   "metadata": {
    "tags": []
   },
   "outputs": [],
   "source": [
    "categorical = ['smoker', 'sex', 'region']\n",
    "color = ['C0', 'C1', 'C2', 'C3']\n",
    "\n",
    "# define how many rows and columns are needed in plot because we will be plotting one at a time here\n",
    "fig, axes = plt.subplots(2, 2, figsize = (8,8)) \n",
    "\n",
    "# print details about the axes object\n",
    "print(f\"data type of axes is {type(axes)}\") # axes is a ndarray\n",
    "print(f\"axes shape is {axes.shape}\") # axes shape is 2 x 2 matrix\n",
    "print(f\"first element in axes is {axes[0,0]}\") # axes is a ndarray\n",
    "\n",
    "# Turn the 4th Axes object off bcoz we are plotting only 3 categorical fields\n",
    "axes[1,1].set_axis_off() # comment this line to see how empty 4th axes object shows the grid lines \n",
    "\n",
    "for ax, col in zip(axes.flatten(), categorical) :\n",
    "    df[col].value_counts().plot(kind = 'bar', ax = ax, color = color)\n",
    "    ax.set_xlabel(col)"
   ]
  },
  {
   "cell_type": "code",
   "execution_count": null,
   "id": "67d9338f",
   "metadata": {},
   "outputs": [],
   "source": [
    "fig, axes = plt.subplots(2, 2, figsize=(12,8))\n",
    "axes[1,1].set_axis_off()\n",
    "\n",
    "for ax, col in zip(axes.flatten(), categorical):\n",
    "    sns.histplot(df, x='charges', hue=col, multiple='stack', ax=ax)"
   ]
  },
  {
   "cell_type": "code",
   "execution_count": null,
   "id": "30b45238",
   "metadata": {},
   "outputs": [],
   "source": [
    "cols = ['age', 'bmi', 'charges', 'smoker']\n",
    "\n",
    "sns.pairplot(df[cols], hue='smoker')\n",
    "plt.show()"
   ]
  },
  {
   "cell_type": "markdown",
   "id": "78bd6e0b",
   "metadata": {},
   "source": [
    "### 4. Initialize PyCaret environment"
   ]
  },
  {
   "cell_type": "code",
   "execution_count": null,
   "id": "7c665949",
   "metadata": {},
   "outputs": [],
   "source": [
    "reg = setup(data=df, \n",
    "            target='charges', \n",
    "            train_size = 0.8, \n",
    "            session_id = 145,\n",
    "            numeric_features = numeric[:-1], # Exclude the \"charges\" field contained as last item in list \"numeric\"  \n",
    "            categorical_features = categorical,\n",
    "            transformation = True, # what does this mean\n",
    "            normalize = True\n",
    "            ) "
   ]
  },
  {
   "cell_type": "code",
   "execution_count": null,
   "id": "5646c1df",
   "metadata": {},
   "outputs": [],
   "source": [
    "reg"
   ]
  },
  {
   "cell_type": "code",
   "execution_count": null,
   "id": "ccc2191e",
   "metadata": {},
   "outputs": [],
   "source": [
    "df_transformed = get_config('X_transformed')\n",
    "df_transformed.head()"
   ]
  },
  {
   "cell_type": "markdown",
   "id": "7d8ff5a6",
   "metadata": {},
   "source": [
    "### Comparing Regression Models"
   ]
  },
  {
   "cell_type": "code",
   "execution_count": null,
   "id": "67809f8e",
   "metadata": {},
   "outputs": [],
   "source": [
    "best_model = compare_models(sort='RMSE')\n",
    "best_model"
   ]
  },
  {
   "cell_type": "markdown",
   "id": "b940f16b",
   "metadata": {},
   "source": [
    "### Creating the Model"
   ]
  },
  {
   "cell_type": "code",
   "execution_count": null,
   "id": "4764c375",
   "metadata": {},
   "outputs": [],
   "source": [
    "model = create_model('gbr', fold = 10)"
   ]
  },
  {
   "cell_type": "markdown",
   "id": "b2fbe048",
   "metadata": {},
   "source": [
    "### Tuning the Model"
   ]
  },
  {
   "cell_type": "code",
   "execution_count": null,
   "id": "47ce297e",
   "metadata": {},
   "outputs": [],
   "source": [
    "params = {\n",
    "        'learning_rate': [0.05, 0.08, 0.1],\n",
    "        'max_depth': [1,2, 3, 4, 5, 6, 7, 8],\n",
    "        'subsample': [0.8, 0.9, 1, 1.1],\n",
    "        'n_estimators' : [100, 200, 300, 400, 500]\n",
    "    }\n",
    "\n",
    "tuned_model = tune_model(model, optimize = 'RMSE', fold = 10,\n",
    "                       custom_grid = params, n_iter = 100)"
   ]
  },
  {
   "cell_type": "markdown",
   "id": "9243c677-4240-4d91-8c84-8a60f11a6e58",
   "metadata": {},
   "source": [
    "### Making Predictions"
   ]
  },
  {
   "cell_type": "code",
   "execution_count": null,
   "id": "c772fc4d-18af-481b-873b-b7d3e79d6f4f",
   "metadata": {},
   "outputs": [],
   "source": [
    "predictions = predict_model(model)\n",
    "predictions.head()"
   ]
  },
  {
   "cell_type": "code",
   "execution_count": null,
   "id": "b311d39c",
   "metadata": {},
   "outputs": [],
   "source": [
    "predictions2 = predict_model(tuned_model)\n",
    "predictions2.head()"
   ]
  },
  {
   "cell_type": "markdown",
   "id": "7af04736",
   "metadata": {},
   "source": [
    "### Plotting the Model"
   ]
  },
  {
   "cell_type": "code",
   "execution_count": null,
   "id": "bf0193ed",
   "metadata": {},
   "outputs": [],
   "source": [
    "plot_model(tuned_model, 'feature', scale = 4)"
   ]
  },
  {
   "cell_type": "code",
   "execution_count": null,
   "id": "0e9f03ad-c9e2-47f1-861e-7914e95f1eb3",
   "metadata": {},
   "outputs": [],
   "source": [
    "plot_model(model, 'error')"
   ]
  },
  {
   "cell_type": "markdown",
   "id": "8dc58761",
   "metadata": {},
   "source": [
    "### Finalizing and Saving the Model"
   ]
  },
  {
   "cell_type": "code",
   "execution_count": null,
   "id": "72dd4bac",
   "metadata": {
    "tags": []
   },
   "outputs": [],
   "source": [
    "final_model = finalize_model(tuned_model)\n",
    "\n",
    "save_model(final_model, 'regression_model')"
   ]
  }
 ],
 "metadata": {
  "kernelspec": {
   "display_name": "Python 3 (ipykernel)",
   "language": "python",
   "name": "python3"
  },
  "language_info": {
   "codemirror_mode": {
    "name": "ipython",
    "version": 3
   },
   "file_extension": ".py",
   "mimetype": "text/x-python",
   "name": "python",
   "nbconvert_exporter": "python",
   "pygments_lexer": "ipython3",
   "version": "3.9.17"
  }
 },
 "nbformat": 4,
 "nbformat_minor": 5
}
